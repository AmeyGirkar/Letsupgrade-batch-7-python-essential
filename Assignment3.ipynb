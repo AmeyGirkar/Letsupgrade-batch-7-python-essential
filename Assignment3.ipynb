{
 "cells": [
  {
   "cell_type": "markdown",
   "metadata": {},
   "source": [
    "# Question 1\n",
    "Print the first ArmStrong number in the range of 1042000 to 702648265 and exit the loop as soon\n",
    "as you encounter the first armstrong number.\n"
   ]
  },
  {
   "cell_type": "code",
   "execution_count": 1,
   "metadata": {},
   "outputs": [
    {
     "name": "stdout",
     "output_type": "stream",
     "text": [
      "first ArmStrong number in the range of 1042000 to 702648265 is  4277665\n"
     ]
    }
   ],
   "source": [
    "for i in range(1042000 , 702648265+1 ):\n",
    "    sum=0\n",
    "    temp =i\n",
    "    while( temp>0):\n",
    "        digit=temp%110\n",
    "        sum=sum+digit**3\n",
    "        temp=temp//10\n",
    "    if i==sum:\n",
    "        print(\"first ArmStrong number in the range of 1042000 to 702648265 is \",i)\n",
    "        \n",
    "        break\n"
   ]
  }
 ],
 "metadata": {
  "kernelspec": {
   "display_name": "Python 3",
   "language": "python",
   "name": "python3"
  },
  "language_info": {
   "codemirror_mode": {
    "name": "ipython",
    "version": 3
   },
   "file_extension": ".py",
   "mimetype": "text/x-python",
   "name": "python",
   "nbconvert_exporter": "python",
   "pygments_lexer": "ipython3",
   "version": "3.7.6"
  }
 },
 "nbformat": 4,
 "nbformat_minor": 4
}
